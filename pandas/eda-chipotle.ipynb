{
 "metadata": {
  "kernelspec": {
   "display_name": "Python [default]",
   "language": "python",
   "name": "python2"
  },
  "language_info": {
   "codemirror_mode": {
    "name": "ipython",
    "version": 2
   },
   "file_extension": ".py",
   "mimetype": "text/x-python",
   "name": "python",
   "nbconvert_exporter": "python",
   "pygments_lexer": "ipython2",
   "version": "2.7.12"
  },
  "name": ""
 },
 "nbformat": 3,
 "nbformat_minor": 0,
 "worksheets": [
  {
   "cells": [
    {
     "cell_type": "heading",
     "level": 2,
     "metadata": {},
     "source": [
      "Getting and knowing the data"
     ]
    },
    {
     "cell_type": "markdown",
     "metadata": {},
     "source": [
      "https://github.com/guipsamora/pandas_exercises/blob/master/01_Getting_%26_Knowing_Your_Data/Chipotle/Exercises.ipynb"
     ]
    },
    {
     "cell_type": "heading",
     "level": 3,
     "metadata": {},
     "source": [
      "Step 1. Import the necessary libraries"
     ]
    },
    {
     "cell_type": "code",
     "collapsed": true,
     "input": [
      "import os\n",
      "import numpy as np\n",
      "import pandas as pd"
     ],
     "language": "python",
     "metadata": {},
     "outputs": [],
     "prompt_number": 1
    },
    {
     "cell_type": "heading",
     "level": 3,
     "metadata": {},
     "source": [
      "Step 2. Import the dataset from this address, assign it to chipo and see the first 10 rows"
     ]
    },
    {
     "cell_type": "code",
     "collapsed": false,
     "input": [
      "os.chdir('C:/Users/Bangda/Desktop/pandas/practice')\n",
      "chipo = pd.read_table('chipotle.tsv')\n",
      "chipo.head(10)"
     ],
     "language": "python",
     "metadata": {},
     "outputs": [
      {
       "html": [
        "<div>\n",
        "<table border=\"1\" class=\"dataframe\">\n",
        "  <thead>\n",
        "    <tr style=\"text-align: right;\">\n",
        "      <th></th>\n",
        "      <th>order_id</th>\n",
        "      <th>quantity</th>\n",
        "      <th>item_name</th>\n",
        "      <th>choice_description</th>\n",
        "      <th>item_price</th>\n",
        "    </tr>\n",
        "  </thead>\n",
        "  <tbody>\n",
        "    <tr>\n",
        "      <th>0</th>\n",
        "      <td>1</td>\n",
        "      <td>1</td>\n",
        "      <td>Chips and Fresh Tomato Salsa</td>\n",
        "      <td>NaN</td>\n",
        "      <td>$2.39</td>\n",
        "    </tr>\n",
        "    <tr>\n",
        "      <th>1</th>\n",
        "      <td>1</td>\n",
        "      <td>1</td>\n",
        "      <td>Izze</td>\n",
        "      <td>[Clementine]</td>\n",
        "      <td>$3.39</td>\n",
        "    </tr>\n",
        "    <tr>\n",
        "      <th>2</th>\n",
        "      <td>1</td>\n",
        "      <td>1</td>\n",
        "      <td>Nantucket Nectar</td>\n",
        "      <td>[Apple]</td>\n",
        "      <td>$3.39</td>\n",
        "    </tr>\n",
        "    <tr>\n",
        "      <th>3</th>\n",
        "      <td>1</td>\n",
        "      <td>1</td>\n",
        "      <td>Chips and Tomatillo-Green Chili Salsa</td>\n",
        "      <td>NaN</td>\n",
        "      <td>$2.39</td>\n",
        "    </tr>\n",
        "    <tr>\n",
        "      <th>4</th>\n",
        "      <td>2</td>\n",
        "      <td>2</td>\n",
        "      <td>Chicken Bowl</td>\n",
        "      <td>[Tomatillo-Red Chili Salsa (Hot), [Black Beans...</td>\n",
        "      <td>$16.98</td>\n",
        "    </tr>\n",
        "    <tr>\n",
        "      <th>5</th>\n",
        "      <td>3</td>\n",
        "      <td>1</td>\n",
        "      <td>Chicken Bowl</td>\n",
        "      <td>[Fresh Tomato Salsa (Mild), [Rice, Cheese, Sou...</td>\n",
        "      <td>$10.98</td>\n",
        "    </tr>\n",
        "    <tr>\n",
        "      <th>6</th>\n",
        "      <td>3</td>\n",
        "      <td>1</td>\n",
        "      <td>Side of Chips</td>\n",
        "      <td>NaN</td>\n",
        "      <td>$1.69</td>\n",
        "    </tr>\n",
        "    <tr>\n",
        "      <th>7</th>\n",
        "      <td>4</td>\n",
        "      <td>1</td>\n",
        "      <td>Steak Burrito</td>\n",
        "      <td>[Tomatillo Red Chili Salsa, [Fajita Vegetables...</td>\n",
        "      <td>$11.75</td>\n",
        "    </tr>\n",
        "    <tr>\n",
        "      <th>8</th>\n",
        "      <td>4</td>\n",
        "      <td>1</td>\n",
        "      <td>Steak Soft Tacos</td>\n",
        "      <td>[Tomatillo Green Chili Salsa, [Pinto Beans, Ch...</td>\n",
        "      <td>$9.25</td>\n",
        "    </tr>\n",
        "    <tr>\n",
        "      <th>9</th>\n",
        "      <td>5</td>\n",
        "      <td>1</td>\n",
        "      <td>Steak Burrito</td>\n",
        "      <td>[Fresh Tomato Salsa, [Rice, Black Beans, Pinto...</td>\n",
        "      <td>$9.25</td>\n",
        "    </tr>\n",
        "  </tbody>\n",
        "</table>\n",
        "</div>"
       ],
       "metadata": {},
       "output_type": "pyout",
       "prompt_number": 2,
       "text": [
        "   order_id  quantity                              item_name  \\\n",
        "0         1         1           Chips and Fresh Tomato Salsa   \n",
        "1         1         1                                   Izze   \n",
        "2         1         1                       Nantucket Nectar   \n",
        "3         1         1  Chips and Tomatillo-Green Chili Salsa   \n",
        "4         2         2                           Chicken Bowl   \n",
        "5         3         1                           Chicken Bowl   \n",
        "6         3         1                          Side of Chips   \n",
        "7         4         1                          Steak Burrito   \n",
        "8         4         1                       Steak Soft Tacos   \n",
        "9         5         1                          Steak Burrito   \n",
        "\n",
        "                                  choice_description item_price  \n",
        "0                                                NaN     $2.39   \n",
        "1                                       [Clementine]     $3.39   \n",
        "2                                            [Apple]     $3.39   \n",
        "3                                                NaN     $2.39   \n",
        "4  [Tomatillo-Red Chili Salsa (Hot), [Black Beans...    $16.98   \n",
        "5  [Fresh Tomato Salsa (Mild), [Rice, Cheese, Sou...    $10.98   \n",
        "6                                                NaN     $1.69   \n",
        "7  [Tomatillo Red Chili Salsa, [Fajita Vegetables...    $11.75   \n",
        "8  [Tomatillo Green Chili Salsa, [Pinto Beans, Ch...     $9.25   \n",
        "9  [Fresh Tomato Salsa, [Rice, Black Beans, Pinto...     $9.25   "
       ]
      }
     ],
     "prompt_number": 2
    },
    {
     "cell_type": "heading",
     "level": 3,
     "metadata": {},
     "source": [
      "Step 3. What is the number of observations and columns in the dataset?"
     ]
    },
    {
     "cell_type": "code",
     "collapsed": false,
     "input": [
      "chipo.shape"
     ],
     "language": "python",
     "metadata": {},
     "outputs": [
      {
       "metadata": {},
       "output_type": "pyout",
       "prompt_number": 3,
       "text": [
        "(4622, 5)"
       ]
      }
     ],
     "prompt_number": 3
    },
    {
     "cell_type": "heading",
     "level": 3,
     "metadata": {},
     "source": [
      "Step 4. Print the name of all the columns."
     ]
    },
    {
     "cell_type": "code",
     "collapsed": false,
     "input": [
      "chipo.columns"
     ],
     "language": "python",
     "metadata": {},
     "outputs": [
      {
       "metadata": {},
       "output_type": "pyout",
       "prompt_number": 4,
       "text": [
        "Index([u'order_id', u'quantity', u'item_name', u'choice_description',\n",
        "       u'item_price'],\n",
        "      dtype='object')"
       ]
      }
     ],
     "prompt_number": 4
    },
    {
     "cell_type": "heading",
     "level": 3,
     "metadata": {},
     "source": [
      "Step 5. How is the dataset indexed?"
     ]
    },
    {
     "cell_type": "code",
     "collapsed": false,
     "input": [
      "chipo.index"
     ],
     "language": "python",
     "metadata": {},
     "outputs": [
      {
       "metadata": {},
       "output_type": "pyout",
       "prompt_number": 5,
       "text": [
        "RangeIndex(start=0, stop=4622, step=1)"
       ]
      }
     ],
     "prompt_number": 5
    },
    {
     "cell_type": "heading",
     "level": 3,
     "metadata": {},
     "source": [
      "Step 6. Which was the most ordered item?"
     ]
    },
    {
     "cell_type": "code",
     "collapsed": false,
     "input": [
      "chipo['item_name'].value_counts().idxmax()"
     ],
     "language": "python",
     "metadata": {},
     "outputs": [
      {
       "metadata": {},
       "output_type": "pyout",
       "prompt_number": 6,
       "text": [
        "'Chicken Bowl'"
       ]
      }
     ],
     "prompt_number": 6
    },
    {
     "cell_type": "heading",
     "level": 3,
     "metadata": {},
     "source": [
      "Step 7. How many items were ordered?"
     ]
    },
    {
     "cell_type": "code",
     "collapsed": false,
     "input": [
      "print(len(pd.unique(chipo['item_name'])))\n",
      "print('\\n')\n",
      "chipo['item_name'].value_counts().head(1)"
     ],
     "language": "python",
     "metadata": {},
     "outputs": [
      {
       "output_type": "stream",
       "stream": "stdout",
       "text": [
        "50\n",
        "\n",
        "\n"
       ]
      },
      {
       "metadata": {},
       "output_type": "pyout",
       "prompt_number": 7,
       "text": [
        "Chicken Bowl    726\n",
        "Name: item_name, dtype: int64"
       ]
      }
     ],
     "prompt_number": 7
    },
    {
     "cell_type": "heading",
     "level": 3,
     "metadata": {},
     "source": [
      "Step 8. What was the most ordered item in the choice_description column?"
     ]
    },
    {
     "cell_type": "code",
     "collapsed": false,
     "input": [
      "chipo['choice_description'].value_counts().head(3)"
     ],
     "language": "python",
     "metadata": {},
     "outputs": [
      {
       "metadata": {},
       "output_type": "pyout",
       "prompt_number": 8,
       "text": [
        "[Diet Coke]    134\n",
        "[Coke]         123\n",
        "[Sprite]        77\n",
        "Name: choice_description, dtype: int64"
       ]
      }
     ],
     "prompt_number": 8
    },
    {
     "cell_type": "heading",
     "level": 3,
     "metadata": {},
     "source": [
      "Step 9. How many items were orderd in total"
     ]
    },
    {
     "cell_type": "code",
     "collapsed": false,
     "input": [
      "chipo['quantity'].sum()"
     ],
     "language": "python",
     "metadata": {},
     "outputs": [
      {
       "metadata": {},
       "output_type": "pyout",
       "prompt_number": 9,
       "text": [
        "4972"
       ]
      }
     ],
     "prompt_number": 9
    },
    {
     "cell_type": "heading",
     "level": 3,
     "metadata": {},
     "source": [
      "Step 10. Turn the item price into a float"
     ]
    },
    {
     "cell_type": "code",
     "collapsed": false,
     "input": [
      "dollarsign_rm = lambda x: np.float(x[1:-1])\n",
      "chipo['item_price'] = chipo['item_price'].apply(dollarsign_rm)\n",
      "chipo.head()"
     ],
     "language": "python",
     "metadata": {},
     "outputs": [
      {
       "html": [
        "<div>\n",
        "<table border=\"1\" class=\"dataframe\">\n",
        "  <thead>\n",
        "    <tr style=\"text-align: right;\">\n",
        "      <th></th>\n",
        "      <th>order_id</th>\n",
        "      <th>quantity</th>\n",
        "      <th>item_name</th>\n",
        "      <th>choice_description</th>\n",
        "      <th>item_price</th>\n",
        "    </tr>\n",
        "  </thead>\n",
        "  <tbody>\n",
        "    <tr>\n",
        "      <th>0</th>\n",
        "      <td>1</td>\n",
        "      <td>1</td>\n",
        "      <td>Chips and Fresh Tomato Salsa</td>\n",
        "      <td>NaN</td>\n",
        "      <td>2.39</td>\n",
        "    </tr>\n",
        "    <tr>\n",
        "      <th>1</th>\n",
        "      <td>1</td>\n",
        "      <td>1</td>\n",
        "      <td>Izze</td>\n",
        "      <td>[Clementine]</td>\n",
        "      <td>3.39</td>\n",
        "    </tr>\n",
        "    <tr>\n",
        "      <th>2</th>\n",
        "      <td>1</td>\n",
        "      <td>1</td>\n",
        "      <td>Nantucket Nectar</td>\n",
        "      <td>[Apple]</td>\n",
        "      <td>3.39</td>\n",
        "    </tr>\n",
        "    <tr>\n",
        "      <th>3</th>\n",
        "      <td>1</td>\n",
        "      <td>1</td>\n",
        "      <td>Chips and Tomatillo-Green Chili Salsa</td>\n",
        "      <td>NaN</td>\n",
        "      <td>2.39</td>\n",
        "    </tr>\n",
        "    <tr>\n",
        "      <th>4</th>\n",
        "      <td>2</td>\n",
        "      <td>2</td>\n",
        "      <td>Chicken Bowl</td>\n",
        "      <td>[Tomatillo-Red Chili Salsa (Hot), [Black Beans...</td>\n",
        "      <td>16.98</td>\n",
        "    </tr>\n",
        "  </tbody>\n",
        "</table>\n",
        "</div>"
       ],
       "metadata": {},
       "output_type": "pyout",
       "prompt_number": 10,
       "text": [
        "   order_id  quantity                              item_name  \\\n",
        "0         1         1           Chips and Fresh Tomato Salsa   \n",
        "1         1         1                                   Izze   \n",
        "2         1         1                       Nantucket Nectar   \n",
        "3         1         1  Chips and Tomatillo-Green Chili Salsa   \n",
        "4         2         2                           Chicken Bowl   \n",
        "\n",
        "                                  choice_description  item_price  \n",
        "0                                                NaN        2.39  \n",
        "1                                       [Clementine]        3.39  \n",
        "2                                            [Apple]        3.39  \n",
        "3                                                NaN        2.39  \n",
        "4  [Tomatillo-Red Chili Salsa (Hot), [Black Beans...       16.98  "
       ]
      }
     ],
     "prompt_number": 10
    },
    {
     "cell_type": "heading",
     "level": 3,
     "metadata": {},
     "source": [
      "Step 11. How much was the revenue for the period in the dataset?"
     ]
    },
    {
     "cell_type": "code",
     "collapsed": false,
     "input": [
      "np.sum(chipo['item_price'])"
     ],
     "language": "python",
     "metadata": {},
     "outputs": [
      {
       "metadata": {},
       "output_type": "pyout",
       "prompt_number": 11,
       "text": [
        "34500.16000000046"
       ]
      }
     ],
     "prompt_number": 11
    },
    {
     "cell_type": "heading",
     "level": 3,
     "metadata": {},
     "source": [
      "Step 12. How many orders were made in the period?"
     ]
    },
    {
     "cell_type": "code",
     "collapsed": false,
     "input": [
      "len(pd.unique(chipo['order_id']))"
     ],
     "language": "python",
     "metadata": {},
     "outputs": [
      {
       "metadata": {},
       "output_type": "pyout",
       "prompt_number": 12,
       "text": [
        "1834"
       ]
      }
     ],
     "prompt_number": 12
    },
    {
     "cell_type": "heading",
     "level": 3,
     "metadata": {},
     "source": [
      "Step 13.  What is the average amount per order"
     ]
    },
    {
     "cell_type": "code",
     "collapsed": false,
     "input": [
      "chipo.groupby('order_id')[['item_price']].mean()"
     ],
     "language": "python",
     "metadata": {},
     "outputs": [
      {
       "html": [
        "<div>\n",
        "<table border=\"1\" class=\"dataframe\">\n",
        "  <thead>\n",
        "    <tr style=\"text-align: right;\">\n",
        "      <th></th>\n",
        "      <th>item_price</th>\n",
        "    </tr>\n",
        "    <tr>\n",
        "      <th>order_id</th>\n",
        "      <th></th>\n",
        "    </tr>\n",
        "  </thead>\n",
        "  <tbody>\n",
        "    <tr>\n",
        "      <th>1</th>\n",
        "      <td>2.890000</td>\n",
        "    </tr>\n",
        "    <tr>\n",
        "      <th>2</th>\n",
        "      <td>16.980000</td>\n",
        "    </tr>\n",
        "    <tr>\n",
        "      <th>3</th>\n",
        "      <td>6.335000</td>\n",
        "    </tr>\n",
        "    <tr>\n",
        "      <th>4</th>\n",
        "      <td>10.500000</td>\n",
        "    </tr>\n",
        "    <tr>\n",
        "      <th>5</th>\n",
        "      <td>6.850000</td>\n",
        "    </tr>\n",
        "    <tr>\n",
        "      <th>6</th>\n",
        "      <td>8.750000</td>\n",
        "    </tr>\n",
        "    <tr>\n",
        "      <th>7</th>\n",
        "      <td>7.850000</td>\n",
        "    </tr>\n",
        "    <tr>\n",
        "      <th>8</th>\n",
        "      <td>5.440000</td>\n",
        "    </tr>\n",
        "    <tr>\n",
        "      <th>9</th>\n",
        "      <td>5.335000</td>\n",
        "    </tr>\n",
        "    <tr>\n",
        "      <th>10</th>\n",
        "      <td>6.600000</td>\n",
        "    </tr>\n",
        "    <tr>\n",
        "      <th>11</th>\n",
        "      <td>6.190000</td>\n",
        "    </tr>\n",
        "    <tr>\n",
        "      <th>12</th>\n",
        "      <td>7.185000</td>\n",
        "    </tr>\n",
        "    <tr>\n",
        "      <th>13</th>\n",
        "      <td>5.440000</td>\n",
        "    </tr>\n",
        "    <tr>\n",
        "      <th>14</th>\n",
        "      <td>5.040000</td>\n",
        "    </tr>\n",
        "    <tr>\n",
        "      <th>15</th>\n",
        "      <td>5.440000</td>\n",
        "    </tr>\n",
        "    <tr>\n",
        "      <th>16</th>\n",
        "      <td>5.340000</td>\n",
        "    </tr>\n",
        "    <tr>\n",
        "      <th>17</th>\n",
        "      <td>5.040000</td>\n",
        "    </tr>\n",
        "    <tr>\n",
        "      <th>18</th>\n",
        "      <td>6.225000</td>\n",
        "    </tr>\n",
        "    <tr>\n",
        "      <th>19</th>\n",
        "      <td>6.950000</td>\n",
        "    </tr>\n",
        "    <tr>\n",
        "      <th>20</th>\n",
        "      <td>9.050000</td>\n",
        "    </tr>\n",
        "    <tr>\n",
        "      <th>21</th>\n",
        "      <td>7.786667</td>\n",
        "    </tr>\n",
        "    <tr>\n",
        "      <th>22</th>\n",
        "      <td>6.490000</td>\n",
        "    </tr>\n",
        "    <tr>\n",
        "      <th>23</th>\n",
        "      <td>5.585000</td>\n",
        "    </tr>\n",
        "    <tr>\n",
        "      <th>24</th>\n",
        "      <td>6.035000</td>\n",
        "    </tr>\n",
        "    <tr>\n",
        "      <th>25</th>\n",
        "      <td>5.690000</td>\n",
        "    </tr>\n",
        "    <tr>\n",
        "      <th>26</th>\n",
        "      <td>10.250000</td>\n",
        "    </tr>\n",
        "    <tr>\n",
        "      <th>27</th>\n",
        "      <td>6.950000</td>\n",
        "    </tr>\n",
        "    <tr>\n",
        "      <th>28</th>\n",
        "      <td>8.425000</td>\n",
        "    </tr>\n",
        "    <tr>\n",
        "      <th>29</th>\n",
        "      <td>8.990000</td>\n",
        "    </tr>\n",
        "    <tr>\n",
        "      <th>30</th>\n",
        "      <td>7.786667</td>\n",
        "    </tr>\n",
        "    <tr>\n",
        "      <th>...</th>\n",
        "      <td>...</td>\n",
        "    </tr>\n",
        "    <tr>\n",
        "      <th>1805</th>\n",
        "      <td>10.000000</td>\n",
        "    </tr>\n",
        "    <tr>\n",
        "      <th>1806</th>\n",
        "      <td>3.250000</td>\n",
        "    </tr>\n",
        "    <tr>\n",
        "      <th>1807</th>\n",
        "      <td>9.320000</td>\n",
        "    </tr>\n",
        "    <tr>\n",
        "      <th>1808</th>\n",
        "      <td>6.850000</td>\n",
        "    </tr>\n",
        "    <tr>\n",
        "      <th>1809</th>\n",
        "      <td>4.816667</td>\n",
        "    </tr>\n",
        "    <tr>\n",
        "      <th>1810</th>\n",
        "      <td>11.500000</td>\n",
        "    </tr>\n",
        "    <tr>\n",
        "      <th>1811</th>\n",
        "      <td>9.750000</td>\n",
        "    </tr>\n",
        "    <tr>\n",
        "      <th>1812</th>\n",
        "      <td>7.500000</td>\n",
        "    </tr>\n",
        "    <tr>\n",
        "      <th>1813</th>\n",
        "      <td>17.500000</td>\n",
        "    </tr>\n",
        "    <tr>\n",
        "      <th>1814</th>\n",
        "      <td>6.850000</td>\n",
        "    </tr>\n",
        "    <tr>\n",
        "      <th>1815</th>\n",
        "      <td>6.250000</td>\n",
        "    </tr>\n",
        "    <tr>\n",
        "      <th>1816</th>\n",
        "      <td>6.600000</td>\n",
        "    </tr>\n",
        "    <tr>\n",
        "      <th>1817</th>\n",
        "      <td>3.250000</td>\n",
        "    </tr>\n",
        "    <tr>\n",
        "      <th>1818</th>\n",
        "      <td>9.070000</td>\n",
        "    </tr>\n",
        "    <tr>\n",
        "      <th>1819</th>\n",
        "      <td>6.600000</td>\n",
        "    </tr>\n",
        "    <tr>\n",
        "      <th>1820</th>\n",
        "      <td>6.250000</td>\n",
        "    </tr>\n",
        "    <tr>\n",
        "      <th>1821</th>\n",
        "      <td>6.850000</td>\n",
        "    </tr>\n",
        "    <tr>\n",
        "      <th>1822</th>\n",
        "      <td>7.666667</td>\n",
        "    </tr>\n",
        "    <tr>\n",
        "      <th>1823</th>\n",
        "      <td>4.050000</td>\n",
        "    </tr>\n",
        "    <tr>\n",
        "      <th>1824</th>\n",
        "      <td>8.983333</td>\n",
        "    </tr>\n",
        "    <tr>\n",
        "      <th>1825</th>\n",
        "      <td>11.083333</td>\n",
        "    </tr>\n",
        "    <tr>\n",
        "      <th>1826</th>\n",
        "      <td>3.987500</td>\n",
        "    </tr>\n",
        "    <tr>\n",
        "      <th>1827</th>\n",
        "      <td>6.590000</td>\n",
        "    </tr>\n",
        "    <tr>\n",
        "      <th>1828</th>\n",
        "      <td>4.816667</td>\n",
        "    </tr>\n",
        "    <tr>\n",
        "      <th>1829</th>\n",
        "      <td>8.083333</td>\n",
        "    </tr>\n",
        "    <tr>\n",
        "      <th>1830</th>\n",
        "      <td>11.500000</td>\n",
        "    </tr>\n",
        "    <tr>\n",
        "      <th>1831</th>\n",
        "      <td>4.300000</td>\n",
        "    </tr>\n",
        "    <tr>\n",
        "      <th>1832</th>\n",
        "      <td>6.600000</td>\n",
        "    </tr>\n",
        "    <tr>\n",
        "      <th>1833</th>\n",
        "      <td>11.750000</td>\n",
        "    </tr>\n",
        "    <tr>\n",
        "      <th>1834</th>\n",
        "      <td>9.583333</td>\n",
        "    </tr>\n",
        "  </tbody>\n",
        "</table>\n",
        "<p>1834 rows \u00d7 1 columns</p>\n",
        "</div>"
       ],
       "metadata": {},
       "output_type": "pyout",
       "prompt_number": 13,
       "text": [
        "          item_price\n",
        "order_id            \n",
        "1           2.890000\n",
        "2          16.980000\n",
        "3           6.335000\n",
        "4          10.500000\n",
        "5           6.850000\n",
        "6           8.750000\n",
        "7           7.850000\n",
        "8           5.440000\n",
        "9           5.335000\n",
        "10          6.600000\n",
        "11          6.190000\n",
        "12          7.185000\n",
        "13          5.440000\n",
        "14          5.040000\n",
        "15          5.440000\n",
        "16          5.340000\n",
        "17          5.040000\n",
        "18          6.225000\n",
        "19          6.950000\n",
        "20          9.050000\n",
        "21          7.786667\n",
        "22          6.490000\n",
        "23          5.585000\n",
        "24          6.035000\n",
        "25          5.690000\n",
        "26         10.250000\n",
        "27          6.950000\n",
        "28          8.425000\n",
        "29          8.990000\n",
        "30          7.786667\n",
        "...              ...\n",
        "1805       10.000000\n",
        "1806        3.250000\n",
        "1807        9.320000\n",
        "1808        6.850000\n",
        "1809        4.816667\n",
        "1810       11.500000\n",
        "1811        9.750000\n",
        "1812        7.500000\n",
        "1813       17.500000\n",
        "1814        6.850000\n",
        "1815        6.250000\n",
        "1816        6.600000\n",
        "1817        3.250000\n",
        "1818        9.070000\n",
        "1819        6.600000\n",
        "1820        6.250000\n",
        "1821        6.850000\n",
        "1822        7.666667\n",
        "1823        4.050000\n",
        "1824        8.983333\n",
        "1825       11.083333\n",
        "1826        3.987500\n",
        "1827        6.590000\n",
        "1828        4.816667\n",
        "1829        8.083333\n",
        "1830       11.500000\n",
        "1831        4.300000\n",
        "1832        6.600000\n",
        "1833       11.750000\n",
        "1834        9.583333\n",
        "\n",
        "[1834 rows x 1 columns]"
       ]
      }
     ],
     "prompt_number": 13
    },
    {
     "cell_type": "heading",
     "level": 3,
     "metadata": {},
     "source": [
      "Step 14. How many different items are sold"
     ]
    },
    {
     "cell_type": "code",
     "collapsed": false,
     "input": [
      "chipo['item_name'].value_counts().count()"
     ],
     "language": "python",
     "metadata": {},
     "outputs": [
      {
       "metadata": {},
       "output_type": "pyout",
       "prompt_number": 14,
       "text": [
        "50"
       ]
      }
     ],
     "prompt_number": 14
    }
   ],
   "metadata": {}
  }
 ]
}
