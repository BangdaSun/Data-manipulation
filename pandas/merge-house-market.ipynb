{
 "metadata": {
  "kernelspec": {
   "display_name": "Python 2",
   "language": "python",
   "name": "python2"
  },
  "language_info": {
   "codemirror_mode": {
    "name": "ipython",
    "version": 2
   },
   "file_extension": ".py",
   "mimetype": "text/x-python",
   "name": "python",
   "nbconvert_exporter": "python",
   "pygments_lexer": "ipython2",
   "version": "2.7.11"
  },
  "name": "",
  "signature": "sha256:1e8ca7a1cb40dac52c18092a1516971d62a1f58f5d8c58ce875683aabdfb5d95"
 },
 "nbformat": 3,
 "nbformat_minor": 0,
 "worksheets": [
  {
   "cells": [
    {
     "cell_type": "markdown",
     "metadata": {},
     "source": [
      "## Merge"
     ]
    },
    {
     "cell_type": "markdown",
     "metadata": {},
     "source": [
      "https://github.com/guipsamora/pandas_exercises/blob/master/05_Merge/Housing%20Market/Exercises.ipynb"
     ]
    },
    {
     "cell_type": "markdown",
     "metadata": {},
     "source": [
      "### Step 1. Import the necessary libraries"
     ]
    },
    {
     "cell_type": "code",
     "collapsed": false,
     "input": [
      "import numpy as np\n",
      "import pandas as pd"
     ],
     "language": "python",
     "metadata": {},
     "outputs": [],
     "prompt_number": 1
    },
    {
     "cell_type": "markdown",
     "metadata": {},
     "source": [
      "### Step 2. Create 3 differents Series, each of length 100, as follows: \n",
      "1. The first a random number from 1 to 4 \n",
      "2. The second a random number from 1 to 3\n",
      "3. The third a random number from 10,000 to 30,000"
     ]
    },
    {
     "cell_type": "code",
     "collapsed": false,
     "input": [
      "s1 = pd.Series(np.random.randint(low = 1, high = 5, size = 100))\n",
      "s2 = pd.Series(np.random.randint(low = 1, high = 4, size = 100))\n",
      "s3 = pd.Series(np.random.randint(low = 10000, high = 30001, size = 100))"
     ],
     "language": "python",
     "metadata": {},
     "outputs": [],
     "prompt_number": 2
    },
    {
     "cell_type": "heading",
     "level": 3,
     "metadata": {},
     "source": [
      "Step 3. Let's create a DataFrame by joinning the Series by column"
     ]
    },
    {
     "cell_type": "code",
     "collapsed": false,
     "input": [
      "df = pd.DataFrame([s1, s2, s3])\n",
      "df = df.T\n",
      "df.head()\n",
      "# or \n",
      "df = pd.concat([s1, s2, s3], axis = 1)\n",
      "df.head()"
     ],
     "language": "python",
     "metadata": {},
     "outputs": [
      {
       "html": [
        "<div style=\"max-width:1500px;overflow:auto;\">\n",
        "<table border=\"1\" class=\"dataframe\">\n",
        "  <thead>\n",
        "    <tr style=\"text-align: right;\">\n",
        "      <th></th>\n",
        "      <th>0</th>\n",
        "      <th>1</th>\n",
        "      <th>2</th>\n",
        "    </tr>\n",
        "  </thead>\n",
        "  <tbody>\n",
        "    <tr>\n",
        "      <th>0</th>\n",
        "      <td>3</td>\n",
        "      <td>2</td>\n",
        "      <td>11716</td>\n",
        "    </tr>\n",
        "    <tr>\n",
        "      <th>1</th>\n",
        "      <td>2</td>\n",
        "      <td>2</td>\n",
        "      <td>25737</td>\n",
        "    </tr>\n",
        "    <tr>\n",
        "      <th>2</th>\n",
        "      <td>4</td>\n",
        "      <td>3</td>\n",
        "      <td>18295</td>\n",
        "    </tr>\n",
        "    <tr>\n",
        "      <th>3</th>\n",
        "      <td>4</td>\n",
        "      <td>2</td>\n",
        "      <td>13202</td>\n",
        "    </tr>\n",
        "    <tr>\n",
        "      <th>4</th>\n",
        "      <td>1</td>\n",
        "      <td>3</td>\n",
        "      <td>25455</td>\n",
        "    </tr>\n",
        "  </tbody>\n",
        "</table>\n",
        "</div>"
       ],
       "metadata": {},
       "output_type": "pyout",
       "prompt_number": 3,
       "text": [
        "   0  1      2\n",
        "0  3  2  11716\n",
        "1  2  2  25737\n",
        "2  4  3  18295\n",
        "3  4  2  13202\n",
        "4  1  3  25455"
       ]
      }
     ],
     "prompt_number": 3
    },
    {
     "cell_type": "heading",
     "level": 3,
     "metadata": {},
     "source": [
      "Step 4. Change the name of the columns to bedrs, bathrs, price_sqr_meter"
     ]
    },
    {
     "cell_type": "code",
     "collapsed": false,
     "input": [
      "df.columns = ['bedrs', 'bathrs', 'price_sqr_meter']\n",
      "df.head()\n",
      "# or\n",
      "df.rename(columns = {0: 'bedrs', 1: 'bathrs', 2: 'price_sqr_meter'}, inplace = True)\n",
      "df.head()"
     ],
     "language": "python",
     "metadata": {},
     "outputs": [
      {
       "html": [
        "<div style=\"max-width:1500px;overflow:auto;\">\n",
        "<table border=\"1\" class=\"dataframe\">\n",
        "  <thead>\n",
        "    <tr style=\"text-align: right;\">\n",
        "      <th></th>\n",
        "      <th>bedrs</th>\n",
        "      <th>bathrs</th>\n",
        "      <th>price_sqr_meter</th>\n",
        "    </tr>\n",
        "  </thead>\n",
        "  <tbody>\n",
        "    <tr>\n",
        "      <th>0</th>\n",
        "      <td>3</td>\n",
        "      <td>2</td>\n",
        "      <td>11716</td>\n",
        "    </tr>\n",
        "    <tr>\n",
        "      <th>1</th>\n",
        "      <td>2</td>\n",
        "      <td>2</td>\n",
        "      <td>25737</td>\n",
        "    </tr>\n",
        "    <tr>\n",
        "      <th>2</th>\n",
        "      <td>4</td>\n",
        "      <td>3</td>\n",
        "      <td>18295</td>\n",
        "    </tr>\n",
        "    <tr>\n",
        "      <th>3</th>\n",
        "      <td>4</td>\n",
        "      <td>2</td>\n",
        "      <td>13202</td>\n",
        "    </tr>\n",
        "    <tr>\n",
        "      <th>4</th>\n",
        "      <td>1</td>\n",
        "      <td>3</td>\n",
        "      <td>25455</td>\n",
        "    </tr>\n",
        "  </tbody>\n",
        "</table>\n",
        "</div>"
       ],
       "metadata": {},
       "output_type": "pyout",
       "prompt_number": 4,
       "text": [
        "   bedrs  bathrs  price_sqr_meter\n",
        "0      3       2            11716\n",
        "1      2       2            25737\n",
        "2      4       3            18295\n",
        "3      4       2            13202\n",
        "4      1       3            25455"
       ]
      }
     ],
     "prompt_number": 4
    },
    {
     "cell_type": "heading",
     "level": 3,
     "metadata": {},
     "source": [
      "Step 5. Create a one column DataFrame with the values of the 3 Series and assign it to 'bigcolumn'"
     ]
    },
    {
     "cell_type": "code",
     "collapsed": false,
     "input": [
      "arr = np.array([s1, s2, s3])\n",
      "print(arr.shape)\n",
      "arr_reshaped = arr.reshape((300, 1))\n",
      "df_long = pd.DataFrame(arr_reshaped)\n",
      "print(df_long.head())\n",
      "print(df_long.tail())\n",
      "# or\n",
      "bigcolumn = pd.concat([s1, s2, s3], axis = 0)\n",
      "bigcolumn = bigcolumn.to_frame()\n",
      "print(bigcolumn.head())"
     ],
     "language": "python",
     "metadata": {},
     "outputs": [
      {
       "output_type": "stream",
       "stream": "stdout",
       "text": [
        "(3, 100)\n",
        "   0\n",
        "0  3\n",
        "1  2\n",
        "2  4\n",
        "3  4\n",
        "4  1\n",
        "         0\n",
        "295  22437\n",
        "296  29077\n",
        "297  20041\n",
        "298  19988\n",
        "299  20580\n",
        "   0\n",
        "0  3\n",
        "1  2\n",
        "2  4\n",
        "3  4\n",
        "4  1\n"
       ]
      }
     ],
     "prompt_number": 5
    },
    {
     "cell_type": "heading",
     "level": 3,
     "metadata": {},
     "source": [
      "Step 6. Ops it seems it is going only until index 99. Is it true?"
     ]
    },
    {
     "cell_type": "code",
     "collapsed": false,
     "input": [
      "len(bigcolumn)"
     ],
     "language": "python",
     "metadata": {},
     "outputs": [
      {
       "metadata": {},
       "output_type": "pyout",
       "prompt_number": 6,
       "text": [
        "300"
       ]
      }
     ],
     "prompt_number": 6
    },
    {
     "cell_type": "heading",
     "level": 3,
     "metadata": {},
     "source": [
      "Step 7. Reindex the DataFrame so it goes from 0 to 299"
     ]
    },
    {
     "cell_type": "code",
     "collapsed": false,
     "input": [
      "df_long.reset_index(drop = True, inplace = True)\n",
      "df_long.head()"
     ],
     "language": "python",
     "metadata": {},
     "outputs": [
      {
       "html": [
        "<div style=\"max-width:1500px;overflow:auto;\">\n",
        "<table border=\"1\" class=\"dataframe\">\n",
        "  <thead>\n",
        "    <tr style=\"text-align: right;\">\n",
        "      <th></th>\n",
        "      <th>0</th>\n",
        "    </tr>\n",
        "  </thead>\n",
        "  <tbody>\n",
        "    <tr>\n",
        "      <th>0</th>\n",
        "      <td>3</td>\n",
        "    </tr>\n",
        "    <tr>\n",
        "      <th>1</th>\n",
        "      <td>2</td>\n",
        "    </tr>\n",
        "    <tr>\n",
        "      <th>2</th>\n",
        "      <td>4</td>\n",
        "    </tr>\n",
        "    <tr>\n",
        "      <th>3</th>\n",
        "      <td>4</td>\n",
        "    </tr>\n",
        "    <tr>\n",
        "      <th>4</th>\n",
        "      <td>1</td>\n",
        "    </tr>\n",
        "  </tbody>\n",
        "</table>\n",
        "</div>"
       ],
       "metadata": {},
       "output_type": "pyout",
       "prompt_number": 7,
       "text": [
        "   0\n",
        "0  3\n",
        "1  2\n",
        "2  4\n",
        "3  4\n",
        "4  1"
       ]
      }
     ],
     "prompt_number": 7
    }
   ],
   "metadata": {}
  }
 ]
}
